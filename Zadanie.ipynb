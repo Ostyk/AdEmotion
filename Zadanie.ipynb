{
 "cells": [
  {
   "cell_type": "markdown",
   "metadata": {},
   "source": [
    "Zadanie:\n",
    "\n",
    " Przeprowadziliśmy ankietę mającą zbadać cechy psychologiczne polskich internautów. Na wynik badania składają się dwa pliki:\n",
    "\n",
    "1. users.csv - dane demograficzne ankietowanych oraz przeglądarka z jakiej korzystają.\n",
    "\n",
    "2. personality.csv - profil psychologiczny ankietowanych, opisany przez 5 cech: A-E.\n",
    "\n",
    " \n",
    "Opis cech demograficznych:\n",
    "\n",
    "·       D01 Płeć\n",
    "\n",
    "·       D02 Rok urodzenia\n",
    "\n",
    "·       D03 Wykształcenie - podstawowe, zawodowe, średnie, wyższe\n",
    "\n",
    "·       D04 Status zawodowy\n",
    "\n",
    "·       D05 Wielkość miejscowości - wieś, do 20k, do 100k, do 500k, powyżej\n",
    "\n",
    "·       D06 Sytuacja finansowa\n",
    "\n",
    "·       D07 Rozmiar gospodarstwa domowego\n",
    "\n",
    " \n",
    "Szukamy odpowiedzi na następujące pytania:\n",
    "\n",
    "1. Czy istnieje związek pomiędzy posiadanymi przez nas informacjami o ankietowanych, a ich profilem psychologicznym?\n",
    "\n",
    "2. Czy możemy podzielić ankietowanych na grupy osób o podobnym profilu psychologicznym? Jakie to grupy, co wyróżnia każdą z nich, jaka jest ich charakterystyka demograficzna?\n",
    "\n",
    " \n",
    "Przeprowadź odpowiednią analizę danych. Przygotuj krótkie, wysokopoziomowe podsumowanie managementu oraz paczkę z kodem pozwalającym na odtworzenie najważniejszych wyników oraz dalszy rozwój rozwiązań "
   ]
  },
  {
   "cell_type": "markdown",
   "metadata": {},
   "source": [
    "## Exploratory Data Analysis"
   ]
  },
  {
   "cell_type": "code",
   "execution_count": 103,
   "metadata": {},
   "outputs": [],
   "source": [
    "%reload_ext autoreload\n",
    "%autoreload 2"
   ]
  },
  {
   "cell_type": "code",
   "execution_count": 104,
   "metadata": {},
   "outputs": [],
   "source": [
    "import pandas as pd\n",
    "import numpy as np\n",
    "import matplotlib.pyplot as plt\n",
    "import seaborn as sns\n",
    "\n",
    "import eda"
   ]
  },
  {
   "cell_type": "code",
   "execution_count": 120,
   "metadata": {},
   "outputs": [],
   "source": [
    "users_df = pd.read_csv('data/users.csv')\n",
    "personality_df = pd.read_csv('data/personality.csv')"
   ]
  },
  {
   "cell_type": "code",
   "execution_count": 121,
   "metadata": {},
   "outputs": [
    {
     "data": {
      "text/html": [
       "<div>\n",
       "<style scoped>\n",
       "    .dataframe tbody tr th:only-of-type {\n",
       "        vertical-align: middle;\n",
       "    }\n",
       "\n",
       "    .dataframe tbody tr th {\n",
       "        vertical-align: top;\n",
       "    }\n",
       "\n",
       "    .dataframe thead th {\n",
       "        text-align: right;\n",
       "    }\n",
       "</style>\n",
       "<table border=\"1\" class=\"dataframe\">\n",
       "  <thead>\n",
       "    <tr style=\"text-align: right;\">\n",
       "      <th></th>\n",
       "      <th>UserIdentifier</th>\n",
       "      <th>UserBrowser</th>\n",
       "      <th>D01</th>\n",
       "      <th>D02</th>\n",
       "      <th>D03</th>\n",
       "      <th>D04</th>\n",
       "      <th>D05</th>\n",
       "      <th>D06</th>\n",
       "      <th>D07</th>\n",
       "    </tr>\n",
       "  </thead>\n",
       "  <tbody>\n",
       "    <tr>\n",
       "      <th>0</th>\n",
       "      <td>d2d10f362bb1d0092174a660778cbe50</td>\n",
       "      <td>Firefox 69.0 (Desktop)</td>\n",
       "      <td>M</td>\n",
       "      <td>1954.0</td>\n",
       "      <td>3.0</td>\n",
       "      <td>4.0</td>\n",
       "      <td>2.0</td>\n",
       "      <td>6.0</td>\n",
       "      <td>2.0</td>\n",
       "    </tr>\n",
       "    <tr>\n",
       "      <th>1</th>\n",
       "      <td>083a56a91d0d1ee4e66643849133b2b3</td>\n",
       "      <td>Chrome 70.0.3538.110 (Mobile)</td>\n",
       "      <td>M</td>\n",
       "      <td>1963.0</td>\n",
       "      <td>2.0</td>\n",
       "      <td>2.0</td>\n",
       "      <td>2.0</td>\n",
       "      <td>7.0</td>\n",
       "      <td>2.0</td>\n",
       "    </tr>\n",
       "    <tr>\n",
       "      <th>2</th>\n",
       "      <td>fdc1004b329f2aca4c81ad59c93c1be0</td>\n",
       "      <td>Chrome 77.0.3865.90 (Desktop)</td>\n",
       "      <td>K</td>\n",
       "      <td>1975.0</td>\n",
       "      <td>4.0</td>\n",
       "      <td>1.0</td>\n",
       "      <td>4.0</td>\n",
       "      <td>5.0</td>\n",
       "      <td>6.0</td>\n",
       "    </tr>\n",
       "    <tr>\n",
       "      <th>3</th>\n",
       "      <td>8b8a4372a0f3fd3e1a1d4c531211506e</td>\n",
       "      <td>Chrome 75.0.3770.142 (Desktop)</td>\n",
       "      <td>K</td>\n",
       "      <td>1991.0</td>\n",
       "      <td>3.0</td>\n",
       "      <td>2.0</td>\n",
       "      <td>4.0</td>\n",
       "      <td>5.0</td>\n",
       "      <td>4.0</td>\n",
       "    </tr>\n",
       "    <tr>\n",
       "      <th>4</th>\n",
       "      <td>58d0c701bf73a5949e2ee29f387fb5a2</td>\n",
       "      <td>Chrome 78.0.3904.108 (Mobile)</td>\n",
       "      <td>M</td>\n",
       "      <td>2000.0</td>\n",
       "      <td>3.0</td>\n",
       "      <td>3.0</td>\n",
       "      <td>1.0</td>\n",
       "      <td>7.0</td>\n",
       "      <td>6.0</td>\n",
       "    </tr>\n",
       "  </tbody>\n",
       "</table>\n",
       "</div>"
      ],
      "text/plain": [
       "                     UserIdentifier                     UserBrowser D01  \\\n",
       "0  d2d10f362bb1d0092174a660778cbe50          Firefox 69.0 (Desktop)   M   \n",
       "1  083a56a91d0d1ee4e66643849133b2b3   Chrome 70.0.3538.110 (Mobile)   M   \n",
       "2  fdc1004b329f2aca4c81ad59c93c1be0   Chrome 77.0.3865.90 (Desktop)   K   \n",
       "3  8b8a4372a0f3fd3e1a1d4c531211506e  Chrome 75.0.3770.142 (Desktop)   K   \n",
       "4  58d0c701bf73a5949e2ee29f387fb5a2   Chrome 78.0.3904.108 (Mobile)   M   \n",
       "\n",
       "      D02  D03  D04  D05  D06  D07  \n",
       "0  1954.0  3.0  4.0  2.0  6.0  2.0  \n",
       "1  1963.0  2.0  2.0  2.0  7.0  2.0  \n",
       "2  1975.0  4.0  1.0  4.0  5.0  6.0  \n",
       "3  1991.0  3.0  2.0  4.0  5.0  4.0  \n",
       "4  2000.0  3.0  3.0  1.0  7.0  6.0  "
      ]
     },
     "execution_count": 121,
     "metadata": {},
     "output_type": "execute_result"
    }
   ],
   "source": [
    "users_df.head()"
   ]
  },
  {
   "cell_type": "code",
   "execution_count": 122,
   "metadata": {},
   "outputs": [
    {
     "data": {
      "text/html": [
       "<div>\n",
       "<style scoped>\n",
       "    .dataframe tbody tr th:only-of-type {\n",
       "        vertical-align: middle;\n",
       "    }\n",
       "\n",
       "    .dataframe tbody tr th {\n",
       "        vertical-align: top;\n",
       "    }\n",
       "\n",
       "    .dataframe thead th {\n",
       "        text-align: right;\n",
       "    }\n",
       "</style>\n",
       "<table border=\"1\" class=\"dataframe\">\n",
       "  <thead>\n",
       "    <tr style=\"text-align: right;\">\n",
       "      <th></th>\n",
       "      <th>UserIdentifier</th>\n",
       "      <th>A</th>\n",
       "      <th>B</th>\n",
       "      <th>C</th>\n",
       "      <th>D</th>\n",
       "      <th>E</th>\n",
       "    </tr>\n",
       "  </thead>\n",
       "  <tbody>\n",
       "    <tr>\n",
       "      <th>0</th>\n",
       "      <td>d2d10f362bb1d0092174a660778cbe50</td>\n",
       "      <td>0.041197</td>\n",
       "      <td>-0.389188</td>\n",
       "      <td>-0.257404</td>\n",
       "      <td>0.732678</td>\n",
       "      <td>-0.769127</td>\n",
       "    </tr>\n",
       "    <tr>\n",
       "      <th>1</th>\n",
       "      <td>083a56a91d0d1ee4e66643849133b2b3</td>\n",
       "      <td>-0.596461</td>\n",
       "      <td>0.620304</td>\n",
       "      <td>-0.611045</td>\n",
       "      <td>-0.256928</td>\n",
       "      <td>-0.244441</td>\n",
       "    </tr>\n",
       "    <tr>\n",
       "      <th>2</th>\n",
       "      <td>fdc1004b329f2aca4c81ad59c93c1be0</td>\n",
       "      <td>-1.198166</td>\n",
       "      <td>-0.821102</td>\n",
       "      <td>0.298394</td>\n",
       "      <td>-0.031738</td>\n",
       "      <td>0.821793</td>\n",
       "    </tr>\n",
       "    <tr>\n",
       "      <th>3</th>\n",
       "      <td>8b8a4372a0f3fd3e1a1d4c531211506e</td>\n",
       "      <td>-0.344910</td>\n",
       "      <td>-1.611630</td>\n",
       "      <td>0.220709</td>\n",
       "      <td>-0.323851</td>\n",
       "      <td>-0.127276</td>\n",
       "    </tr>\n",
       "    <tr>\n",
       "      <th>4</th>\n",
       "      <td>58d0c701bf73a5949e2ee29f387fb5a2</td>\n",
       "      <td>-0.365047</td>\n",
       "      <td>1.094319</td>\n",
       "      <td>-0.187957</td>\n",
       "      <td>-0.254589</td>\n",
       "      <td>0.554409</td>\n",
       "    </tr>\n",
       "  </tbody>\n",
       "</table>\n",
       "</div>"
      ],
      "text/plain": [
       "                     UserIdentifier         A         B         C         D  \\\n",
       "0  d2d10f362bb1d0092174a660778cbe50  0.041197 -0.389188 -0.257404  0.732678   \n",
       "1  083a56a91d0d1ee4e66643849133b2b3 -0.596461  0.620304 -0.611045 -0.256928   \n",
       "2  fdc1004b329f2aca4c81ad59c93c1be0 -1.198166 -0.821102  0.298394 -0.031738   \n",
       "3  8b8a4372a0f3fd3e1a1d4c531211506e -0.344910 -1.611630  0.220709 -0.323851   \n",
       "4  58d0c701bf73a5949e2ee29f387fb5a2 -0.365047  1.094319 -0.187957 -0.254589   \n",
       "\n",
       "          E  \n",
       "0 -0.769127  \n",
       "1 -0.244441  \n",
       "2  0.821793  \n",
       "3 -0.127276  \n",
       "4  0.554409  "
      ]
     },
     "execution_count": 122,
     "metadata": {},
     "output_type": "execute_result"
    }
   ],
   "source": [
    "personality_df.head()"
   ]
  },
  {
   "cell_type": "markdown",
   "metadata": {},
   "source": [
    "### first let's get rid of duplicated entries"
   ]
  },
  {
   "cell_type": "code",
   "execution_count": 123,
   "metadata": {},
   "outputs": [
    {
     "name": "stdout",
     "output_type": "stream",
     "text": [
      "there were 187 duplicated user entries\n",
      "there were 152 duplicated personality entries\n"
     ]
    }
   ],
   "source": [
    "print(f\"there were {users_df.shape[0] - users_df.drop_duplicates().shape[0]} duplicated user entries\" )\n",
    "print(f\"there were {personality_df.shape[0] - personality_df.drop_duplicates().shape[0]} duplicated personality entries\" )\n",
    "\n",
    "users_df = users_df.drop_duplicates()\n",
    "personality_df = personality_df.drop_duplicates()"
   ]
  },
  {
   "cell_type": "markdown",
   "metadata": {},
   "source": [
    "# Data cleaning"
   ]
  },
  {
   "cell_type": "markdown",
   "metadata": {},
   "source": [
    "### 1. Split 'UserBrowser' into many columns: 'Browser', 'Version', 'Device'"
   ]
  },
  {
   "cell_type": "code",
   "execution_count": 124,
   "metadata": {},
   "outputs": [
    {
     "data": {
      "text/html": [
       "<div>\n",
       "<style scoped>\n",
       "    .dataframe tbody tr th:only-of-type {\n",
       "        vertical-align: middle;\n",
       "    }\n",
       "\n",
       "    .dataframe tbody tr th {\n",
       "        vertical-align: top;\n",
       "    }\n",
       "\n",
       "    .dataframe thead th {\n",
       "        text-align: right;\n",
       "    }\n",
       "</style>\n",
       "<table border=\"1\" class=\"dataframe\">\n",
       "  <thead>\n",
       "    <tr style=\"text-align: right;\">\n",
       "      <th></th>\n",
       "      <th>UserIdentifier</th>\n",
       "      <th>D01</th>\n",
       "      <th>D02</th>\n",
       "      <th>D03</th>\n",
       "      <th>D04</th>\n",
       "      <th>D05</th>\n",
       "      <th>D06</th>\n",
       "      <th>D07</th>\n",
       "      <th>Browser</th>\n",
       "      <th>Version</th>\n",
       "      <th>Device</th>\n",
       "    </tr>\n",
       "  </thead>\n",
       "  <tbody>\n",
       "    <tr>\n",
       "      <th>0</th>\n",
       "      <td>d2d10f362bb1d0092174a660778cbe50</td>\n",
       "      <td>M</td>\n",
       "      <td>1954.0</td>\n",
       "      <td>3.0</td>\n",
       "      <td>4.0</td>\n",
       "      <td>2.0</td>\n",
       "      <td>6.0</td>\n",
       "      <td>2.0</td>\n",
       "      <td>Firefox</td>\n",
       "      <td>69.0</td>\n",
       "      <td>Desktop</td>\n",
       "    </tr>\n",
       "    <tr>\n",
       "      <th>1</th>\n",
       "      <td>083a56a91d0d1ee4e66643849133b2b3</td>\n",
       "      <td>M</td>\n",
       "      <td>1963.0</td>\n",
       "      <td>2.0</td>\n",
       "      <td>2.0</td>\n",
       "      <td>2.0</td>\n",
       "      <td>7.0</td>\n",
       "      <td>2.0</td>\n",
       "      <td>Chrome</td>\n",
       "      <td>70.0.3538.110</td>\n",
       "      <td>Mobile</td>\n",
       "    </tr>\n",
       "    <tr>\n",
       "      <th>2</th>\n",
       "      <td>fdc1004b329f2aca4c81ad59c93c1be0</td>\n",
       "      <td>K</td>\n",
       "      <td>1975.0</td>\n",
       "      <td>4.0</td>\n",
       "      <td>1.0</td>\n",
       "      <td>4.0</td>\n",
       "      <td>5.0</td>\n",
       "      <td>6.0</td>\n",
       "      <td>Chrome</td>\n",
       "      <td>77.0.3865.90</td>\n",
       "      <td>Desktop</td>\n",
       "    </tr>\n",
       "    <tr>\n",
       "      <th>3</th>\n",
       "      <td>8b8a4372a0f3fd3e1a1d4c531211506e</td>\n",
       "      <td>K</td>\n",
       "      <td>1991.0</td>\n",
       "      <td>3.0</td>\n",
       "      <td>2.0</td>\n",
       "      <td>4.0</td>\n",
       "      <td>5.0</td>\n",
       "      <td>4.0</td>\n",
       "      <td>Chrome</td>\n",
       "      <td>75.0.3770.142</td>\n",
       "      <td>Desktop</td>\n",
       "    </tr>\n",
       "    <tr>\n",
       "      <th>4</th>\n",
       "      <td>58d0c701bf73a5949e2ee29f387fb5a2</td>\n",
       "      <td>M</td>\n",
       "      <td>2000.0</td>\n",
       "      <td>3.0</td>\n",
       "      <td>3.0</td>\n",
       "      <td>1.0</td>\n",
       "      <td>7.0</td>\n",
       "      <td>6.0</td>\n",
       "      <td>Chrome</td>\n",
       "      <td>78.0.3904.108</td>\n",
       "      <td>Mobile</td>\n",
       "    </tr>\n",
       "  </tbody>\n",
       "</table>\n",
       "</div>"
      ],
      "text/plain": [
       "                     UserIdentifier D01     D02  D03  D04  D05  D06  D07  \\\n",
       "0  d2d10f362bb1d0092174a660778cbe50   M  1954.0  3.0  4.0  2.0  6.0  2.0   \n",
       "1  083a56a91d0d1ee4e66643849133b2b3   M  1963.0  2.0  2.0  2.0  7.0  2.0   \n",
       "2  fdc1004b329f2aca4c81ad59c93c1be0   K  1975.0  4.0  1.0  4.0  5.0  6.0   \n",
       "3  8b8a4372a0f3fd3e1a1d4c531211506e   K  1991.0  3.0  2.0  4.0  5.0  4.0   \n",
       "4  58d0c701bf73a5949e2ee29f387fb5a2   M  2000.0  3.0  3.0  1.0  7.0  6.0   \n",
       "\n",
       "   Browser        Version   Device  \n",
       "0  Firefox           69.0  Desktop  \n",
       "1   Chrome  70.0.3538.110   Mobile  \n",
       "2   Chrome   77.0.3865.90  Desktop  \n",
       "3   Chrome  75.0.3770.142  Desktop  \n",
       "4   Chrome  78.0.3904.108   Mobile  "
      ]
     },
     "execution_count": 124,
     "metadata": {},
     "output_type": "execute_result"
    }
   ],
   "source": [
    "users_df[['Browser', 'Version', 'Device']] = users_df.UserBrowser.apply(lambda row: pd.Series(row.split(\" \")))\n",
    "users_df.Device = users_df.Device.apply(lambda row: row.strip('()'))\n",
    "users_df.drop('UserBrowser', axis=1, inplace=True)\n",
    "users_df.head()"
   ]
  },
  {
   "cell_type": "markdown",
   "metadata": {},
   "source": [
    "now, we have to convert the new columns into numerical ones"
   ]
  },
  {
   "cell_type": "code",
   "execution_count": 125,
   "metadata": {},
   "outputs": [
    {
     "data": {
      "image/png": "[encoded data removed]",
      "text/plain": [
       "<Figure size 432x288 with 1 Axes>"
      ]
     },
     "metadata": {},
     "output_type": "display_data"
    }
   ],
   "source": [
    "eda.categ_summary(users_df['Browser'])"
   ]
  },
  {
   "cell_type": "markdown",
   "metadata": {},
   "source": [
    "most use chrome"
   ]
  },
  {
   "cell_type": "code",
   "execution_count": 126,
   "metadata": {},
   "outputs": [
    {
     "data": {
      "image/png": "[encoded data removed]",
      "text/plain": [
       "<Figure size 432x288 with 1 Axes>"
      ]
     },
     "metadata": {},
     "output_type": "display_data"
    }
   ],
   "source": [
    "eda.categ_summary(users_df['Device'])"
   ]
  },
  {
   "cell_type": "markdown",
   "metadata": {},
   "source": [
    "tablets are very rare"
   ]
  },
  {
   "cell_type": "code",
   "execution_count": 127,
   "metadata": {},
   "outputs": [
    {
     "data": {
      "image/png": "[encoded data removed]",
      "text/plain": [
       "<Figure size 432x288 with 1 Axes>"
      ]
     },
     "metadata": {},
     "output_type": "display_data"
    }
   ],
   "source": [
    "eda.categ_summary(users_df['Version'])"
   ]
  },
  {
   "cell_type": "markdown",
   "metadata": {},
   "source": [
    "There are too many versions, and they don't really make an impact"
   ]
  },
  {
   "cell_type": "code",
   "execution_count": 128,
   "metadata": {},
   "outputs": [],
   "source": [
    "users_df = users_df.drop(['Version'], axis=1)"
   ]
  },
  {
   "cell_type": "markdown",
   "metadata": {},
   "source": [
    "finally we convert categorical values into numerical by using one hot encoding"
   ]
  },
  {
   "cell_type": "code",
   "execution_count": 135,
   "metadata": {},
   "outputs": [],
   "source": [
    "users_df = pd.get_dummies(users_df, columns=['Browser', 'Device'])"
   ]
  },
  {
   "cell_type": "code",
   "execution_count": null,
   "metadata": {},
   "outputs": [],
   "source": []
  },
  {
   "cell_type": "markdown",
   "metadata": {},
   "source": [
    "### 2 . sex into binary"
   ]
  },
  {
   "cell_type": "code",
   "execution_count": 136,
   "metadata": {},
   "outputs": [],
   "source": [
    "users_df['Sex'] = users_df['D01'].map({\"M\":0, \"K\": 1})"
   ]
  },
  {
   "cell_type": "markdown",
   "metadata": {},
   "source": [
    "### 3. Change dtypes from 'float64' to 'int16'\n",
    "(Columns D05-D07 have 'nan' values, hence they are left as float)"
   ]
  },
  {
   "cell_type": "code",
   "execution_count": 137,
   "metadata": {},
   "outputs": [
    {
     "data": {
      "text/plain": [
       "UserIdentifier      object\n",
       "D01                 object\n",
       "D02                float64\n",
       "D03                float64\n",
       "D04                float64\n",
       "D05                float64\n",
       "D06                float64\n",
       "D07                float64\n",
       "Browser_Chrome       uint8\n",
       "Browser_Edge         uint8\n",
       "Browser_Firefox      uint8\n",
       "Browser_Generic      uint8\n",
       "Browser_IE           uint8\n",
       "Browser_Opera        uint8\n",
       "Browser_Safari       uint8\n",
       "Device_Desktop       uint8\n",
       "Device_Mobile        uint8\n",
       "Device_Tablet        uint8\n",
       "Sex                  int64\n",
       "dtype: object"
      ]
     },
     "execution_count": 137,
     "metadata": {},
     "output_type": "execute_result"
    }
   ],
   "source": [
    "users_df.dtypes"
   ]
  },
  {
   "cell_type": "code",
   "execution_count": 138,
   "metadata": {},
   "outputs": [],
   "source": [
    "users_df = users_df.astype(dtype={'D02':np.int16, 'D03':np.int16, 'D04':np.int16})"
   ]
  },
  {
   "cell_type": "markdown",
   "metadata": {},
   "source": [
    "#### check for those nan values"
   ]
  },
  {
   "cell_type": "code",
   "execution_count": 139,
   "metadata": {},
   "outputs": [
    {
     "name": "stdout",
     "output_type": "stream",
     "text": [
      "Column | %\n"
     ]
    },
    {
     "data": {
      "text/plain": [
       "D05    1\n",
       "D06    1\n",
       "D07    1\n",
       "dtype: int64"
      ]
     },
     "execution_count": 139,
     "metadata": {},
     "output_type": "execute_result"
    }
   ],
   "source": [
    "col_nan = users_df.isna().sum()\n",
    "print(\"Column | %\")\n",
    "col_nan[col_nan > 0.]"
   ]
  },
  {
   "cell_type": "code",
   "execution_count": 140,
   "metadata": {},
   "outputs": [
    {
     "data": {
      "text/html": [
       "<div>\n",
       "<style scoped>\n",
       "    .dataframe tbody tr th:only-of-type {\n",
       "        vertical-align: middle;\n",
       "    }\n",
       "\n",
       "    .dataframe tbody tr th {\n",
       "        vertical-align: top;\n",
       "    }\n",
       "\n",
       "    .dataframe thead th {\n",
       "        text-align: right;\n",
       "    }\n",
       "</style>\n",
       "<table border=\"1\" class=\"dataframe\">\n",
       "  <thead>\n",
       "    <tr style=\"text-align: right;\">\n",
       "      <th></th>\n",
       "      <th>UserIdentifier</th>\n",
       "      <th>D01</th>\n",
       "      <th>D02</th>\n",
       "      <th>D03</th>\n",
       "      <th>D04</th>\n",
       "      <th>D05</th>\n",
       "      <th>D06</th>\n",
       "      <th>D07</th>\n",
       "      <th>Browser_Chrome</th>\n",
       "      <th>Browser_Edge</th>\n",
       "      <th>Browser_Firefox</th>\n",
       "      <th>Browser_Generic</th>\n",
       "      <th>Browser_IE</th>\n",
       "      <th>Browser_Opera</th>\n",
       "      <th>Browser_Safari</th>\n",
       "      <th>Device_Desktop</th>\n",
       "      <th>Device_Mobile</th>\n",
       "      <th>Device_Tablet</th>\n",
       "      <th>Sex</th>\n",
       "    </tr>\n",
       "  </thead>\n",
       "  <tbody>\n",
       "    <tr>\n",
       "      <th>557</th>\n",
       "      <td>afe841be2dababac5a440e0c14a9f903</td>\n",
       "      <td>K</td>\n",
       "      <td>1981</td>\n",
       "      <td>4</td>\n",
       "      <td>2</td>\n",
       "      <td>NaN</td>\n",
       "      <td>NaN</td>\n",
       "      <td>NaN</td>\n",
       "      <td>1</td>\n",
       "      <td>0</td>\n",
       "      <td>0</td>\n",
       "      <td>0</td>\n",
       "      <td>0</td>\n",
       "      <td>0</td>\n",
       "      <td>0</td>\n",
       "      <td>0</td>\n",
       "      <td>1</td>\n",
       "      <td>0</td>\n",
       "      <td>1</td>\n",
       "    </tr>\n",
       "  </tbody>\n",
       "</table>\n",
       "</div>"
      ],
      "text/plain": [
       "                       UserIdentifier D01   D02  D03  D04  D05  D06  D07  \\\n",
       "557  afe841be2dababac5a440e0c14a9f903   K  1981    4    2  NaN  NaN  NaN   \n",
       "\n",
       "     Browser_Chrome  Browser_Edge  Browser_Firefox  Browser_Generic  \\\n",
       "557               1             0                0                0   \n",
       "\n",
       "     Browser_IE  Browser_Opera  Browser_Safari  Device_Desktop  Device_Mobile  \\\n",
       "557           0              0               0               0              1   \n",
       "\n",
       "     Device_Tablet  Sex  \n",
       "557              0    1  "
      ]
     },
     "execution_count": 140,
     "metadata": {},
     "output_type": "execute_result"
    }
   ],
   "source": [
    "users_df[users_df['D05'].isna()]"
   ]
  },
  {
   "cell_type": "markdown",
   "metadata": {},
   "source": [
    "only one record with unknown information, for simplicity reasons we discard it. However, if the data is scarce it should be filled with i.e. averages ofother columns if applicable"
   ]
  },
  {
   "cell_type": "code",
   "execution_count": 141,
   "metadata": {},
   "outputs": [],
   "source": [
    "users_df = users_df.dropna()"
   ]
  },
  {
   "cell_type": "markdown",
   "metadata": {},
   "source": [
    "### 4. Assuming that this data comes from the Polish market, we can divide the year of birth column into generations\n",
    "source : https://natemat.pl/235903,do-jakiego-pokolenia-naleze-generacja-z-to-najliczniejsza-grupa-w-polsce\n",
    "\n",
    "![docs/pokolenia.jpg](docs/pokolenia.jpg)"
   ]
  },
  {
   "cell_type": "code",
   "execution_count": 142,
   "metadata": {},
   "outputs": [
    {
     "data": {
      "text/plain": [
       "<matplotlib.axes._subplots.AxesSubplot at 0x12791ac50>"
      ]
     },
     "execution_count": 142,
     "metadata": {},
     "output_type": "execute_result"
    },
    {
     "data": {
      "image/png": "[encoded data removed]",
      "text/plain": [
       "<Figure size 432x288 with 1 Axes>"
      ]
     },
     "metadata": {},
     "output_type": "display_data"
    }
   ],
   "source": [
    "users_df['D02'].hist()"
   ]
  },
  {
   "cell_type": "code",
   "execution_count": 143,
   "metadata": {},
   "outputs": [],
   "source": [
    "year_of_birth_mapper = {\"pokolenie Z\": range(1995, 2020),\n",
    "                       \"pokolenie Y\": range(1980, 1995),\n",
    "                       \"pokolenie X\": range(1964, 1980),\n",
    "                       \"pokolenie BB\": range(1946, 1964),\n",
    "                       \"other\": range(users_df['D02'].min(), 1946)}"
   ]
  },
  {
   "cell_type": "code",
   "execution_count": 144,
   "metadata": {},
   "outputs": [],
   "source": [
    "users_df['Generation'] = users_df['D02'].apply(lambda x: next((k for k, v in year_of_birth_mapper.items() if x in v), 0))"
   ]
  },
  {
   "cell_type": "code",
   "execution_count": 145,
   "metadata": {},
   "outputs": [
    {
     "data": {
      "text/plain": [
       "<matplotlib.axes._subplots.AxesSubplot at 0x12796b510>"
      ]
     },
     "execution_count": 145,
     "metadata": {},
     "output_type": "execute_result"
    },
    {
     "data": {
      "image/png": "[encoded data removed]",
      "text/plain": [
       "<Figure size 432x288 with 1 Axes>"
      ]
     },
     "metadata": {},
     "output_type": "display_data"
    }
   ],
   "source": [
    "users_df['Generation'].hist()"
   ]
  },
  {
   "cell_type": "markdown",
   "metadata": {},
   "source": [
    "this was just for show as we need to convert these into numerical form"
   ]
  },
  {
   "cell_type": "code",
   "execution_count": 148,
   "metadata": {},
   "outputs": [],
   "source": [
    "year_of_birth_mapper_to_numerical = {\"pokolenie Z\": 5,\n",
    "                                     \"pokolenie Y\": 4,\n",
    "                                     \"pokolenie X\": 3,\n",
    "                                     \"pokolenie BB\": 2,\n",
    "                                     \"other\": 1}"
   ]
  },
  {
   "cell_type": "code",
   "execution_count": 151,
   "metadata": {},
   "outputs": [],
   "source": [
    "users_df['Generation'] =  users_df['Generation'].apply(lambda x: next((v for k, v in year_of_birth_mapper_to_numerical.items() if x in k), 0))"
   ]
  },
  {
   "cell_type": "code",
   "execution_count": 153,
   "metadata": {},
   "outputs": [],
   "source": [
    "users_df = users_df.rename(columns = {\"D03\": \"Education\", \n",
    "                                      \"D05\": \"City size\", \n",
    "                                      \"D04\": \"Professional status\", \n",
    "                                     \"D06\": \"Financial_situation\",\n",
    "                                     \"D07\": \"Size of Household\"})"
   ]
  },
  {
   "cell_type": "code",
   "execution_count": 154,
   "metadata": {},
   "outputs": [],
   "source": [
    "users_df = users_df.drop([\"D01\", \"D02\"], axis=1)"
   ]
  },
  {
   "cell_type": "markdown",
   "metadata": {},
   "source": [
    "#### We can assume that the higher the number, the better the financial situation. Also this follows a normal distribution implying the wealth distribution is fairly representative of the population."
   ]
  },
  {
   "cell_type": "code",
   "execution_count": 155,
   "metadata": {},
   "outputs": [
    {
     "data": {
      "text/plain": [
       "<matplotlib.axes._subplots.AxesSubplot at 0x1271c9fd0>"
      ]
     },
     "execution_count": 155,
     "metadata": {},
     "output_type": "execute_result"
    },
    {
     "data": {
      "image/png": "[encoded data removed]",
      "text/plain": [
       "<Figure size 432x288 with 1 Axes>"
      ]
     },
     "metadata": {},
     "output_type": "display_data"
    }
   ],
   "source": [
    "users_df['Financial_situation'].hist()"
   ]
  },
  {
   "cell_type": "code",
   "execution_count": 156,
   "metadata": {},
   "outputs": [
    {
     "data": {
      "text/plain": [
       "<matplotlib.axes._subplots.AxesSubplot at 0x1270eea50>"
      ]
     },
     "execution_count": 156,
     "metadata": {},
     "output_type": "execute_result"
    },
    {
     "data": {
      "image/png": "[encoded data removed]",
      "text/plain": [
       "<Figure size 432x288 with 1 Axes>"
      ]
     },
     "metadata": {},
     "output_type": "display_data"
    }
   ],
   "source": [
    "users_df['Size of Household'].hist()"
   ]
  },
  {
   "cell_type": "code",
   "execution_count": 157,
   "metadata": {},
   "outputs": [
    {
     "data": {
      "text/plain": [
       "<matplotlib.axes._subplots.AxesSubplot at 0x126fe9650>"
      ]
     },
     "execution_count": 157,
     "metadata": {},
     "output_type": "execute_result"
    },
    {
     "data": {
      "image/png": "[encoded data removed]",
      "text/plain": [
       "<Figure size 432x288 with 1 Axes>"
      ]
     },
     "metadata": {},
     "output_type": "display_data"
    }
   ],
   "source": [
    "users_df['Professional status'].hist()"
   ]
  },
  {
   "cell_type": "code",
   "execution_count": 158,
   "metadata": {},
   "outputs": [
    {
     "data": {
      "text/html": [
       "<div>\n",
       "<style scoped>\n",
       "    .dataframe tbody tr th:only-of-type {\n",
       "        vertical-align: middle;\n",
       "    }\n",
       "\n",
       "    .dataframe tbody tr th {\n",
       "        vertical-align: top;\n",
       "    }\n",
       "\n",
       "    .dataframe thead th {\n",
       "        text-align: right;\n",
       "    }\n",
       "</style>\n",
       "<table border=\"1\" class=\"dataframe\">\n",
       "  <thead>\n",
       "    <tr style=\"text-align: right;\">\n",
       "      <th></th>\n",
       "      <th>UserIdentifier</th>\n",
       "      <th>Education</th>\n",
       "      <th>Professional status</th>\n",
       "      <th>City size</th>\n",
       "      <th>Financial_situation</th>\n",
       "      <th>Size of Household</th>\n",
       "      <th>Browser_Chrome</th>\n",
       "      <th>Browser_Edge</th>\n",
       "      <th>Browser_Firefox</th>\n",
       "      <th>Browser_Generic</th>\n",
       "      <th>Browser_IE</th>\n",
       "      <th>Browser_Opera</th>\n",
       "      <th>Browser_Safari</th>\n",
       "      <th>Device_Desktop</th>\n",
       "      <th>Device_Mobile</th>\n",
       "      <th>Device_Tablet</th>\n",
       "      <th>Sex</th>\n",
       "      <th>Generation</th>\n",
       "    </tr>\n",
       "  </thead>\n",
       "  <tbody>\n",
       "    <tr>\n",
       "      <th>0</th>\n",
       "      <td>d2d10f362bb1d0092174a660778cbe50</td>\n",
       "      <td>3</td>\n",
       "      <td>4</td>\n",
       "      <td>2.0</td>\n",
       "      <td>6.0</td>\n",
       "      <td>2.0</td>\n",
       "      <td>0</td>\n",
       "      <td>0</td>\n",
       "      <td>1</td>\n",
       "      <td>0</td>\n",
       "      <td>0</td>\n",
       "      <td>0</td>\n",
       "      <td>0</td>\n",
       "      <td>1</td>\n",
       "      <td>0</td>\n",
       "      <td>0</td>\n",
       "      <td>0</td>\n",
       "      <td>2</td>\n",
       "    </tr>\n",
       "    <tr>\n",
       "      <th>1</th>\n",
       "      <td>083a56a91d0d1ee4e66643849133b2b3</td>\n",
       "      <td>2</td>\n",
       "      <td>2</td>\n",
       "      <td>2.0</td>\n",
       "      <td>7.0</td>\n",
       "      <td>2.0</td>\n",
       "      <td>1</td>\n",
       "      <td>0</td>\n",
       "      <td>0</td>\n",
       "      <td>0</td>\n",
       "      <td>0</td>\n",
       "      <td>0</td>\n",
       "      <td>0</td>\n",
       "      <td>0</td>\n",
       "      <td>1</td>\n",
       "      <td>0</td>\n",
       "      <td>0</td>\n",
       "      <td>2</td>\n",
       "    </tr>\n",
       "    <tr>\n",
       "      <th>2</th>\n",
       "      <td>fdc1004b329f2aca4c81ad59c93c1be0</td>\n",
       "      <td>4</td>\n",
       "      <td>1</td>\n",
       "      <td>4.0</td>\n",
       "      <td>5.0</td>\n",
       "      <td>6.0</td>\n",
       "      <td>1</td>\n",
       "      <td>0</td>\n",
       "      <td>0</td>\n",
       "      <td>0</td>\n",
       "      <td>0</td>\n",
       "      <td>0</td>\n",
       "      <td>0</td>\n",
       "      <td>1</td>\n",
       "      <td>0</td>\n",
       "      <td>0</td>\n",
       "      <td>1</td>\n",
       "      <td>3</td>\n",
       "    </tr>\n",
       "    <tr>\n",
       "      <th>3</th>\n",
       "      <td>8b8a4372a0f3fd3e1a1d4c531211506e</td>\n",
       "      <td>3</td>\n",
       "      <td>2</td>\n",
       "      <td>4.0</td>\n",
       "      <td>5.0</td>\n",
       "      <td>4.0</td>\n",
       "      <td>1</td>\n",
       "      <td>0</td>\n",
       "      <td>0</td>\n",
       "      <td>0</td>\n",
       "      <td>0</td>\n",
       "      <td>0</td>\n",
       "      <td>0</td>\n",
       "      <td>1</td>\n",
       "      <td>0</td>\n",
       "      <td>0</td>\n",
       "      <td>1</td>\n",
       "      <td>4</td>\n",
       "    </tr>\n",
       "    <tr>\n",
       "      <th>4</th>\n",
       "      <td>58d0c701bf73a5949e2ee29f387fb5a2</td>\n",
       "      <td>3</td>\n",
       "      <td>3</td>\n",
       "      <td>1.0</td>\n",
       "      <td>7.0</td>\n",
       "      <td>6.0</td>\n",
       "      <td>1</td>\n",
       "      <td>0</td>\n",
       "      <td>0</td>\n",
       "      <td>0</td>\n",
       "      <td>0</td>\n",
       "      <td>0</td>\n",
       "      <td>0</td>\n",
       "      <td>0</td>\n",
       "      <td>1</td>\n",
       "      <td>0</td>\n",
       "      <td>0</td>\n",
       "      <td>5</td>\n",
       "    </tr>\n",
       "  </tbody>\n",
       "</table>\n",
       "</div>"
      ],
      "text/plain": [
       "                     UserIdentifier  Education  Professional status  \\\n",
       "0  d2d10f362bb1d0092174a660778cbe50          3                    4   \n",
       "1  083a56a91d0d1ee4e66643849133b2b3          2                    2   \n",
       "2  fdc1004b329f2aca4c81ad59c93c1be0          4                    1   \n",
       "3  8b8a4372a0f3fd3e1a1d4c531211506e          3                    2   \n",
       "4  58d0c701bf73a5949e2ee29f387fb5a2          3                    3   \n",
       "\n",
       "   City size  Financial_situation  Size of Household  Browser_Chrome  \\\n",
       "0        2.0                  6.0                2.0               0   \n",
       "1        2.0                  7.0                2.0               1   \n",
       "2        4.0                  5.0                6.0               1   \n",
       "3        4.0                  5.0                4.0               1   \n",
       "4        1.0                  7.0                6.0               1   \n",
       "\n",
       "   Browser_Edge  Browser_Firefox  Browser_Generic  Browser_IE  Browser_Opera  \\\n",
       "0             0                1                0           0              0   \n",
       "1             0                0                0           0              0   \n",
       "2             0                0                0           0              0   \n",
       "3             0                0                0           0              0   \n",
       "4             0                0                0           0              0   \n",
       "\n",
       "   Browser_Safari  Device_Desktop  Device_Mobile  Device_Tablet  Sex  \\\n",
       "0               0               1              0              0    0   \n",
       "1               0               0              1              0    0   \n",
       "2               0               1              0              0    1   \n",
       "3               0               1              0              0    1   \n",
       "4               0               0              1              0    0   \n",
       "\n",
       "   Generation  \n",
       "0           2  \n",
       "1           2  \n",
       "2           3  \n",
       "3           4  \n",
       "4           5  "
      ]
     },
     "execution_count": 158,
     "metadata": {},
     "output_type": "execute_result"
    }
   ],
   "source": [
    "users_df.head()"
   ]
  },
  {
   "cell_type": "markdown",
   "metadata": {},
   "source": [
    "#### end of column preprocessing"
   ]
  },
  {
   "cell_type": "markdown",
   "metadata": {},
   "source": [
    "# pre-statistical analysis: \n",
    "### let's see if we have any duplicates in the form of the same user but with different variable values"
   ]
  },
  {
   "cell_type": "code",
   "execution_count": 24,
   "metadata": {},
   "outputs": [],
   "source": [
    "f\"there are {len(users_df['UserIdentifier'].unique())} unique identifies in the users csv\"\n",
    "f\"there are {len(personality_df['UserIdentifier'].unique())} unique identifies in the personality csv\"\n",
    "\n",
    "user_counts = pd.DataFrame(np.unique(users_df['UserIdentifier'], return_counts=True, return_index=False, return_inverse=False)).T\n",
    "user_counts = user_counts.sort_values(by=1, ascending=False)\n",
    "user_counts = user_counts[user_counts[1]>1]\n",
    "user_counts.columns = ['id', 'users']\n",
    "\n",
    "personality_counts = pd.DataFrame(np.unique(personality_df['UserIdentifier'], return_counts=True, return_index=False, return_inverse=False)).T\n",
    "personality_counts = personality_counts.sort_values(by=1, ascending=False)\n",
    "personality_counts = personality_counts[personality_counts[1]>1]\n",
    "personality_counts.columns = ['id', 'personality']"
   ]
  },
  {
   "cell_type": "code",
   "execution_count": 25,
   "metadata": {},
   "outputs": [
    {
     "data": {
      "text/html": [
       "<div>\n",
       "<style scoped>\n",
       "    .dataframe tbody tr th:only-of-type {\n",
       "        vertical-align: middle;\n",
       "    }\n",
       "\n",
       "    .dataframe tbody tr th {\n",
       "        vertical-align: top;\n",
       "    }\n",
       "\n",
       "    .dataframe thead th {\n",
       "        text-align: right;\n",
       "    }\n",
       "</style>\n",
       "<table border=\"1\" class=\"dataframe\">\n",
       "  <thead>\n",
       "    <tr style=\"text-align: right;\">\n",
       "      <th></th>\n",
       "      <th>id</th>\n",
       "      <th>users</th>\n",
       "    </tr>\n",
       "  </thead>\n",
       "  <tbody>\n",
       "    <tr>\n",
       "      <th>805</th>\n",
       "      <td>77f0be1043bff8c9a56eade3b14ae1d3</td>\n",
       "      <td>2</td>\n",
       "    </tr>\n",
       "    <tr>\n",
       "      <th>847</th>\n",
       "      <td>8015c0d8fc1e5cacfc646805a107a774</td>\n",
       "      <td>2</td>\n",
       "    </tr>\n",
       "  </tbody>\n",
       "</table>\n",
       "</div>"
      ],
      "text/plain": [
       "                                   id users\n",
       "805  77f0be1043bff8c9a56eade3b14ae1d3     2\n",
       "847  8015c0d8fc1e5cacfc646805a107a774     2"
      ]
     },
     "execution_count": 25,
     "metadata": {},
     "output_type": "execute_result"
    }
   ],
   "source": [
    "user_counts"
   ]
  },
  {
   "cell_type": "code",
   "execution_count": 26,
   "metadata": {},
   "outputs": [
    {
     "data": {
      "text/html": [
       "<div>\n",
       "<style scoped>\n",
       "    .dataframe tbody tr th:only-of-type {\n",
       "        vertical-align: middle;\n",
       "    }\n",
       "\n",
       "    .dataframe tbody tr th {\n",
       "        vertical-align: top;\n",
       "    }\n",
       "\n",
       "    .dataframe thead th {\n",
       "        text-align: right;\n",
       "    }\n",
       "</style>\n",
       "<table border=\"1\" class=\"dataframe\">\n",
       "  <thead>\n",
       "    <tr style=\"text-align: right;\">\n",
       "      <th></th>\n",
       "      <th>id</th>\n",
       "      <th>personality</th>\n",
       "    </tr>\n",
       "  </thead>\n",
       "  <tbody>\n",
       "    <tr>\n",
       "      <th>737</th>\n",
       "      <td>77f0be1043bff8c9a56eade3b14ae1d3</td>\n",
       "      <td>4</td>\n",
       "    </tr>\n",
       "    <tr>\n",
       "      <th>777</th>\n",
       "      <td>8015c0d8fc1e5cacfc646805a107a774</td>\n",
       "      <td>4</td>\n",
       "    </tr>\n",
       "    <tr>\n",
       "      <th>1035</th>\n",
       "      <td>a9708dbcb21aa7ccf7ce2de45cf9f206</td>\n",
       "      <td>2</td>\n",
       "    </tr>\n",
       "    <tr>\n",
       "      <th>1212</th>\n",
       "      <td>c7f107a928b95df530d54f6e0a5af971</td>\n",
       "      <td>2</td>\n",
       "    </tr>\n",
       "  </tbody>\n",
       "</table>\n",
       "</div>"
      ],
      "text/plain": [
       "                                    id personality\n",
       "737   77f0be1043bff8c9a56eade3b14ae1d3           4\n",
       "777   8015c0d8fc1e5cacfc646805a107a774           4\n",
       "1035  a9708dbcb21aa7ccf7ce2de45cf9f206           2\n",
       "1212  c7f107a928b95df530d54f6e0a5af971           2"
      ]
     },
     "execution_count": 26,
     "metadata": {},
     "output_type": "execute_result"
    }
   ],
   "source": [
    "personality_counts"
   ]
  },
  {
   "cell_type": "markdown",
   "metadata": {},
   "source": [
    "#### let's conside only the users that are present in both, since we cannot evaluate anything useful in this task from only information from one table"
   ]
  },
  {
   "cell_type": "code",
   "execution_count": 27,
   "metadata": {},
   "outputs": [
    {
     "data": {
      "text/html": [
       "<div>\n",
       "<style scoped>\n",
       "    .dataframe tbody tr th:only-of-type {\n",
       "        vertical-align: middle;\n",
       "    }\n",
       "\n",
       "    .dataframe tbody tr th {\n",
       "        vertical-align: top;\n",
       "    }\n",
       "\n",
       "    .dataframe thead th {\n",
       "        text-align: right;\n",
       "    }\n",
       "</style>\n",
       "<table border=\"1\" class=\"dataframe\">\n",
       "  <thead>\n",
       "    <tr style=\"text-align: right;\">\n",
       "      <th></th>\n",
       "      <th>id</th>\n",
       "      <th>users</th>\n",
       "      <th>personality</th>\n",
       "    </tr>\n",
       "  </thead>\n",
       "  <tbody>\n",
       "    <tr>\n",
       "      <th>0</th>\n",
       "      <td>77f0be1043bff8c9a56eade3b14ae1d3</td>\n",
       "      <td>2</td>\n",
       "      <td>4</td>\n",
       "    </tr>\n",
       "    <tr>\n",
       "      <th>1</th>\n",
       "      <td>8015c0d8fc1e5cacfc646805a107a774</td>\n",
       "      <td>2</td>\n",
       "      <td>4</td>\n",
       "    </tr>\n",
       "  </tbody>\n",
       "</table>\n",
       "</div>"
      ],
      "text/plain": [
       "                                 id users personality\n",
       "0  77f0be1043bff8c9a56eade3b14ae1d3     2           4\n",
       "1  8015c0d8fc1e5cacfc646805a107a774     2           4"
      ]
     },
     "execution_count": 27,
     "metadata": {},
     "output_type": "execute_result"
    }
   ],
   "source": [
    "user_counts.merge(personality_counts, on='id')"
   ]
  },
  {
   "cell_type": "code",
   "execution_count": 28,
   "metadata": {},
   "outputs": [],
   "source": [
    "user_1 = '77f0be1043bff8c9a56eade3b14ae1d3'\n",
    "user_2 = '8015c0d8fc1e5cacfc646805a107a774'"
   ]
  },
  {
   "cell_type": "markdown",
   "metadata": {},
   "source": [
    "So we have two users with a unique user id who have more than one entry. Let's explore why that is the case"
   ]
  },
  {
   "cell_type": "code",
   "execution_count": 29,
   "metadata": {},
   "outputs": [
    {
     "data": {
      "text/html": [
       "<div>\n",
       "<style scoped>\n",
       "    .dataframe tbody tr th:only-of-type {\n",
       "        vertical-align: middle;\n",
       "    }\n",
       "\n",
       "    .dataframe tbody tr th {\n",
       "        vertical-align: top;\n",
       "    }\n",
       "\n",
       "    .dataframe thead th {\n",
       "        text-align: right;\n",
       "    }\n",
       "</style>\n",
       "<table border=\"1\" class=\"dataframe\">\n",
       "  <thead>\n",
       "    <tr style=\"text-align: right;\">\n",
       "      <th></th>\n",
       "      <th>UserIdentifier</th>\n",
       "      <th>Education</th>\n",
       "      <th>Professional status</th>\n",
       "      <th>City size</th>\n",
       "      <th>Financial_situation</th>\n",
       "      <th>Size of Household</th>\n",
       "      <th>Browser</th>\n",
       "      <th>Version</th>\n",
       "      <th>Device</th>\n",
       "      <th>Sex</th>\n",
       "      <th>Generation</th>\n",
       "    </tr>\n",
       "  </thead>\n",
       "  <tbody>\n",
       "    <tr>\n",
       "      <th>1408</th>\n",
       "      <td>77f0be1043bff8c9a56eade3b14ae1d3</td>\n",
       "      <td>3</td>\n",
       "      <td>2</td>\n",
       "      <td>4.0</td>\n",
       "      <td>10.0</td>\n",
       "      <td>6.0</td>\n",
       "      <td>Edge</td>\n",
       "      <td>18.18362</td>\n",
       "      <td>Desktop</td>\n",
       "      <td>0</td>\n",
       "      <td>pokolenie Y</td>\n",
       "    </tr>\n",
       "    <tr>\n",
       "      <th>1409</th>\n",
       "      <td>77f0be1043bff8c9a56eade3b14ae1d3</td>\n",
       "      <td>3</td>\n",
       "      <td>2</td>\n",
       "      <td>4.0</td>\n",
       "      <td>8.0</td>\n",
       "      <td>6.0</td>\n",
       "      <td>Edge</td>\n",
       "      <td>18.18362</td>\n",
       "      <td>Desktop</td>\n",
       "      <td>0</td>\n",
       "      <td>pokolenie Y</td>\n",
       "    </tr>\n",
       "  </tbody>\n",
       "</table>\n",
       "</div>"
      ],
      "text/plain": [
       "                        UserIdentifier  Education  Professional status  \\\n",
       "1408  77f0be1043bff8c9a56eade3b14ae1d3          3                    2   \n",
       "1409  77f0be1043bff8c9a56eade3b14ae1d3          3                    2   \n",
       "\n",
       "      City size  Financial_situation  Size of Household Browser   Version  \\\n",
       "1408        4.0                 10.0                6.0    Edge  18.18362   \n",
       "1409        4.0                  8.0                6.0    Edge  18.18362   \n",
       "\n",
       "       Device  Sex   Generation  \n",
       "1408  Desktop    0  pokolenie Y  \n",
       "1409  Desktop    0  pokolenie Y  "
      ]
     },
     "execution_count": 29,
     "metadata": {},
     "output_type": "execute_result"
    }
   ],
   "source": [
    "users_df[users_df['UserIdentifier']==user_1]"
   ]
  },
  {
   "cell_type": "code",
   "execution_count": 30,
   "metadata": {},
   "outputs": [
    {
     "data": {
      "text/html": [
       "<div>\n",
       "<style scoped>\n",
       "    .dataframe tbody tr th:only-of-type {\n",
       "        vertical-align: middle;\n",
       "    }\n",
       "\n",
       "    .dataframe tbody tr th {\n",
       "        vertical-align: top;\n",
       "    }\n",
       "\n",
       "    .dataframe thead th {\n",
       "        text-align: right;\n",
       "    }\n",
       "</style>\n",
       "<table border=\"1\" class=\"dataframe\">\n",
       "  <thead>\n",
       "    <tr style=\"text-align: right;\">\n",
       "      <th></th>\n",
       "      <th>UserIdentifier</th>\n",
       "      <th>Education</th>\n",
       "      <th>Professional status</th>\n",
       "      <th>City size</th>\n",
       "      <th>Financial_situation</th>\n",
       "      <th>Size of Household</th>\n",
       "      <th>Browser</th>\n",
       "      <th>Version</th>\n",
       "      <th>Device</th>\n",
       "      <th>Sex</th>\n",
       "      <th>Generation</th>\n",
       "    </tr>\n",
       "  </thead>\n",
       "  <tbody>\n",
       "    <tr>\n",
       "      <th>1488</th>\n",
       "      <td>8015c0d8fc1e5cacfc646805a107a774</td>\n",
       "      <td>2</td>\n",
       "      <td>4</td>\n",
       "      <td>1.0</td>\n",
       "      <td>6.0</td>\n",
       "      <td>2.0</td>\n",
       "      <td>Edge</td>\n",
       "      <td>18.18362</td>\n",
       "      <td>Desktop</td>\n",
       "      <td>1</td>\n",
       "      <td>pokolenie X</td>\n",
       "    </tr>\n",
       "    <tr>\n",
       "      <th>1489</th>\n",
       "      <td>8015c0d8fc1e5cacfc646805a107a774</td>\n",
       "      <td>2</td>\n",
       "      <td>4</td>\n",
       "      <td>1.0</td>\n",
       "      <td>10.0</td>\n",
       "      <td>2.0</td>\n",
       "      <td>Edge</td>\n",
       "      <td>18.18362</td>\n",
       "      <td>Desktop</td>\n",
       "      <td>1</td>\n",
       "      <td>pokolenie X</td>\n",
       "    </tr>\n",
       "  </tbody>\n",
       "</table>\n",
       "</div>"
      ],
      "text/plain": [
       "                        UserIdentifier  Education  Professional status  \\\n",
       "1488  8015c0d8fc1e5cacfc646805a107a774          2                    4   \n",
       "1489  8015c0d8fc1e5cacfc646805a107a774          2                    4   \n",
       "\n",
       "      City size  Financial_situation  Size of Household Browser   Version  \\\n",
       "1488        1.0                  6.0                2.0    Edge  18.18362   \n",
       "1489        1.0                 10.0                2.0    Edge  18.18362   \n",
       "\n",
       "       Device  Sex   Generation  \n",
       "1488  Desktop    1  pokolenie X  \n",
       "1489  Desktop    1  pokolenie X  "
      ]
     },
     "execution_count": 30,
     "metadata": {},
     "output_type": "execute_result"
    }
   ],
   "source": [
    "users_df[users_df['UserIdentifier']==user_2]"
   ]
  },
  {
   "cell_type": "markdown",
   "metadata": {},
   "source": [
    "### hence we can see that this is because their financial situation has changed, let's see if this had an impact on their personality"
   ]
  },
  {
   "cell_type": "code",
   "execution_count": 31,
   "metadata": {},
   "outputs": [
    {
     "data": {
      "text/html": [
       "<div>\n",
       "<style scoped>\n",
       "    .dataframe tbody tr th:only-of-type {\n",
       "        vertical-align: middle;\n",
       "    }\n",
       "\n",
       "    .dataframe tbody tr th {\n",
       "        vertical-align: top;\n",
       "    }\n",
       "\n",
       "    .dataframe thead th {\n",
       "        text-align: right;\n",
       "    }\n",
       "</style>\n",
       "<table border=\"1\" class=\"dataframe\">\n",
       "  <thead>\n",
       "    <tr style=\"text-align: right;\">\n",
       "      <th></th>\n",
       "      <th>UserIdentifier</th>\n",
       "      <th>A</th>\n",
       "      <th>B</th>\n",
       "      <th>C</th>\n",
       "      <th>D</th>\n",
       "      <th>E</th>\n",
       "    </tr>\n",
       "  </thead>\n",
       "  <tbody>\n",
       "    <tr>\n",
       "      <th>1255</th>\n",
       "      <td>77f0be1043bff8c9a56eade3b14ae1d3</td>\n",
       "      <td>-1.250586</td>\n",
       "      <td>1.679915</td>\n",
       "      <td>-0.005389</td>\n",
       "      <td>-0.549635</td>\n",
       "      <td>-0.251646</td>\n",
       "    </tr>\n",
       "    <tr>\n",
       "      <th>1256</th>\n",
       "      <td>77f0be1043bff8c9a56eade3b14ae1d3</td>\n",
       "      <td>-1.795843</td>\n",
       "      <td>0.741011</td>\n",
       "      <td>-0.006315</td>\n",
       "      <td>-0.194033</td>\n",
       "      <td>-0.254256</td>\n",
       "    </tr>\n",
       "    <tr>\n",
       "      <th>1257</th>\n",
       "      <td>77f0be1043bff8c9a56eade3b14ae1d3</td>\n",
       "      <td>-1.160114</td>\n",
       "      <td>1.514207</td>\n",
       "      <td>-0.078972</td>\n",
       "      <td>-0.672392</td>\n",
       "      <td>-0.095133</td>\n",
       "    </tr>\n",
       "    <tr>\n",
       "      <th>1258</th>\n",
       "      <td>77f0be1043bff8c9a56eade3b14ae1d3</td>\n",
       "      <td>-1.705372</td>\n",
       "      <td>0.575303</td>\n",
       "      <td>-0.079898</td>\n",
       "      <td>-0.316791</td>\n",
       "      <td>-0.097743</td>\n",
       "    </tr>\n",
       "  </tbody>\n",
       "</table>\n",
       "</div>"
      ],
      "text/plain": [
       "                        UserIdentifier         A         B         C  \\\n",
       "1255  77f0be1043bff8c9a56eade3b14ae1d3 -1.250586  1.679915 -0.005389   \n",
       "1256  77f0be1043bff8c9a56eade3b14ae1d3 -1.795843  0.741011 -0.006315   \n",
       "1257  77f0be1043bff8c9a56eade3b14ae1d3 -1.160114  1.514207 -0.078972   \n",
       "1258  77f0be1043bff8c9a56eade3b14ae1d3 -1.705372  0.575303 -0.079898   \n",
       "\n",
       "             D         E  \n",
       "1255 -0.549635 -0.251646  \n",
       "1256 -0.194033 -0.254256  \n",
       "1257 -0.672392 -0.095133  \n",
       "1258 -0.316791 -0.097743  "
      ]
     },
     "execution_count": 31,
     "metadata": {},
     "output_type": "execute_result"
    }
   ],
   "source": [
    "personality_df[personality_df['UserIdentifier']==user_1]"
   ]
  },
  {
   "cell_type": "code",
   "execution_count": 32,
   "metadata": {},
   "outputs": [
    {
     "data": {
      "text/html": [
       "<div>\n",
       "<style scoped>\n",
       "    .dataframe tbody tr th:only-of-type {\n",
       "        vertical-align: middle;\n",
       "    }\n",
       "\n",
       "    .dataframe tbody tr th {\n",
       "        vertical-align: top;\n",
       "    }\n",
       "\n",
       "    .dataframe thead th {\n",
       "        text-align: right;\n",
       "    }\n",
       "</style>\n",
       "<table border=\"1\" class=\"dataframe\">\n",
       "  <thead>\n",
       "    <tr style=\"text-align: right;\">\n",
       "      <th></th>\n",
       "      <th>UserIdentifier</th>\n",
       "      <th>A</th>\n",
       "      <th>B</th>\n",
       "      <th>C</th>\n",
       "      <th>D</th>\n",
       "      <th>E</th>\n",
       "    </tr>\n",
       "  </thead>\n",
       "  <tbody>\n",
       "    <tr>\n",
       "      <th>1329</th>\n",
       "      <td>8015c0d8fc1e5cacfc646805a107a774</td>\n",
       "      <td>-3.087869</td>\n",
       "      <td>-0.093816</td>\n",
       "      <td>-0.404177</td>\n",
       "      <td>-0.205214</td>\n",
       "      <td>0.068431</td>\n",
       "    </tr>\n",
       "    <tr>\n",
       "      <th>1330</th>\n",
       "      <td>8015c0d8fc1e5cacfc646805a107a774</td>\n",
       "      <td>-3.211284</td>\n",
       "      <td>-0.375528</td>\n",
       "      <td>-0.430127</td>\n",
       "      <td>-0.219763</td>\n",
       "      <td>-0.081141</td>\n",
       "    </tr>\n",
       "    <tr>\n",
       "      <th>1331</th>\n",
       "      <td>8015c0d8fc1e5cacfc646805a107a774</td>\n",
       "      <td>-2.980238</td>\n",
       "      <td>-0.096443</td>\n",
       "      <td>-0.124548</td>\n",
       "      <td>-0.221593</td>\n",
       "      <td>0.053838</td>\n",
       "    </tr>\n",
       "    <tr>\n",
       "      <th>1332</th>\n",
       "      <td>8015c0d8fc1e5cacfc646805a107a774</td>\n",
       "      <td>-3.103653</td>\n",
       "      <td>-0.378156</td>\n",
       "      <td>-0.150498</td>\n",
       "      <td>-0.236142</td>\n",
       "      <td>-0.095734</td>\n",
       "    </tr>\n",
       "  </tbody>\n",
       "</table>\n",
       "</div>"
      ],
      "text/plain": [
       "                        UserIdentifier         A         B         C  \\\n",
       "1329  8015c0d8fc1e5cacfc646805a107a774 -3.087869 -0.093816 -0.404177   \n",
       "1330  8015c0d8fc1e5cacfc646805a107a774 -3.211284 -0.375528 -0.430127   \n",
       "1331  8015c0d8fc1e5cacfc646805a107a774 -2.980238 -0.096443 -0.124548   \n",
       "1332  8015c0d8fc1e5cacfc646805a107a774 -3.103653 -0.378156 -0.150498   \n",
       "\n",
       "             D         E  \n",
       "1329 -0.205214  0.068431  \n",
       "1330 -0.219763 -0.081141  \n",
       "1331 -0.221593  0.053838  \n",
       "1332 -0.236142 -0.095734  "
      ]
     },
     "execution_count": 32,
     "metadata": {},
     "output_type": "execute_result"
    }
   ],
   "source": [
    "personality_df[personality_df['UserIdentifier']==user_2]"
   ]
  },
  {
   "cell_type": "markdown",
   "metadata": {},
   "source": [
    "## we can see that their psychological profile may differ slightly but due to the size of number of anomalies, we will proceed to drop them from further analysis"
   ]
  },
  {
   "cell_type": "code",
   "execution_count": 33,
   "metadata": {},
   "outputs": [],
   "source": [
    "users_df = users_df[~users_df['UserIdentifier'].isin([user_1, user_2])]\n",
    "personality_df = personality_df[~personality_df['UserIdentifier'].isin([user_1, user_2])]"
   ]
  },
  {
   "cell_type": "markdown",
   "metadata": {},
   "source": [
    "#### personality nan values"
   ]
  },
  {
   "cell_type": "code",
   "execution_count": 34,
   "metadata": {},
   "outputs": [
    {
     "name": "stdout",
     "output_type": "stream",
     "text": [
      "(37, 6)\n"
     ]
    },
    {
     "name": "stderr",
     "output_type": "stream",
     "text": [
      "/usr/local/lib/python3.7/site-packages/ipykernel_launcher.py:1: FutureWarning: Series.nonzero() is deprecated and will be removed in a future version.Use Series.to_numpy().nonzero() instead\n",
      "  \"\"\"Entry point for launching an IPython kernel.\n"
     ]
    },
    {
     "data": {
      "text/html": [
       "<div>\n",
       "<style scoped>\n",
       "    .dataframe tbody tr th:only-of-type {\n",
       "        vertical-align: middle;\n",
       "    }\n",
       "\n",
       "    .dataframe tbody tr th {\n",
       "        vertical-align: top;\n",
       "    }\n",
       "\n",
       "    .dataframe thead th {\n",
       "        text-align: right;\n",
       "    }\n",
       "</style>\n",
       "<table border=\"1\" class=\"dataframe\">\n",
       "  <thead>\n",
       "    <tr style=\"text-align: right;\">\n",
       "      <th></th>\n",
       "      <th>UserIdentifier</th>\n",
       "      <th>A</th>\n",
       "      <th>B</th>\n",
       "      <th>C</th>\n",
       "      <th>D</th>\n",
       "      <th>E</th>\n",
       "    </tr>\n",
       "  </thead>\n",
       "  <tbody>\n",
       "    <tr>\n",
       "      <th>48</th>\n",
       "      <td>ff7e34757a2f5a556900da8f256caf6c</td>\n",
       "      <td>-1.355529</td>\n",
       "      <td>NaN</td>\n",
       "      <td>-0.670744</td>\n",
       "      <td>-0.641809</td>\n",
       "      <td>0.392482</td>\n",
       "    </tr>\n",
       "    <tr>\n",
       "      <th>129</th>\n",
       "      <td>a114937cd1ef612737e1d6e32b167da3</td>\n",
       "      <td>-2.090893</td>\n",
       "      <td>-0.024152</td>\n",
       "      <td>NaN</td>\n",
       "      <td>-0.280436</td>\n",
       "      <td>0.236356</td>\n",
       "    </tr>\n",
       "    <tr>\n",
       "      <th>184</th>\n",
       "      <td>385e7c4a548e0cc7430265852959b37c</td>\n",
       "      <td>0.898997</td>\n",
       "      <td>0.973255</td>\n",
       "      <td>1.621190</td>\n",
       "      <td>-0.388284</td>\n",
       "      <td>NaN</td>\n",
       "    </tr>\n",
       "    <tr>\n",
       "      <th>186</th>\n",
       "      <td>c87032106f5cced05a9017bb66dc2f6f</td>\n",
       "      <td>0.050791</td>\n",
       "      <td>NaN</td>\n",
       "      <td>0.194658</td>\n",
       "      <td>1.314765</td>\n",
       "      <td>0.604076</td>\n",
       "    </tr>\n",
       "    <tr>\n",
       "      <th>190</th>\n",
       "      <td>e384956c34ae245c0260f36cd325c1fa</td>\n",
       "      <td>-1.211774</td>\n",
       "      <td>-0.971555</td>\n",
       "      <td>NaN</td>\n",
       "      <td>0.612637</td>\n",
       "      <td>0.065842</td>\n",
       "    </tr>\n",
       "  </tbody>\n",
       "</table>\n",
       "</div>"
      ],
      "text/plain": [
       "                       UserIdentifier         A         B         C         D  \\\n",
       "48   ff7e34757a2f5a556900da8f256caf6c -1.355529       NaN -0.670744 -0.641809   \n",
       "129  a114937cd1ef612737e1d6e32b167da3 -2.090893 -0.024152       NaN -0.280436   \n",
       "184  385e7c4a548e0cc7430265852959b37c  0.898997  0.973255  1.621190 -0.388284   \n",
       "186  c87032106f5cced05a9017bb66dc2f6f  0.050791       NaN  0.194658  1.314765   \n",
       "190  e384956c34ae245c0260f36cd325c1fa -1.211774 -0.971555       NaN  0.612637   \n",
       "\n",
       "            E  \n",
       "48   0.392482  \n",
       "129  0.236356  \n",
       "184       NaN  \n",
       "186  0.604076  \n",
       "190  0.065842  "
      ]
     },
     "execution_count": 34,
     "metadata": {},
     "output_type": "execute_result"
    }
   ],
   "source": [
    "nan_per = personality_df.iloc[pd.isnull(personality_df).any(1).nonzero()[0]]\n",
    "print(nan_per.shape)\n",
    "nan_per.head()"
   ]
  },
  {
   "cell_type": "markdown",
   "metadata": {},
   "source": [
    "Hence we can fill these values with the column mean"
   ]
  },
  {
   "cell_type": "code",
   "execution_count": 35,
   "metadata": {},
   "outputs": [],
   "source": [
    "personality_df[['A', 'B', 'C', 'D', 'E']] = personality_df[['A', 'B', 'C', 'D', 'E']].apply(lambda x: x.fillna(x.mean()),axis=0)"
   ]
  },
  {
   "cell_type": "code",
   "execution_count": 40,
   "metadata": {},
   "outputs": [
    {
     "data": {
      "text/plain": [
       "((1521, 6), (1521, 6))"
      ]
     },
     "execution_count": 40,
     "metadata": {},
     "output_type": "execute_result"
    }
   ],
   "source": [
    "personality_df.shape, personality_df.dropna().shape"
   ]
  },
  {
   "cell_type": "code",
   "execution_count": 41,
   "metadata": {},
   "outputs": [
    {
     "data": {
      "text/plain": [
       "((1676, 11), (1676, 11))"
      ]
     },
     "execution_count": 41,
     "metadata": {},
     "output_type": "execute_result"
    }
   ],
   "source": [
    "users_df.shape, users_df.dropna().shape"
   ]
  },
  {
   "cell_type": "markdown",
   "metadata": {},
   "source": [
    "## Now we can proceed to join the two dataframes\n"
   ]
  },
  {
   "cell_type": "code",
   "execution_count": 45,
   "metadata": {},
   "outputs": [],
   "source": [
    "df = personality_df.merge(users_df, on='UserIdentifier')"
   ]
  },
  {
   "cell_type": "markdown",
   "metadata": {},
   "source": [
    "## et voila, the final dataframe"
   ]
  },
  {
   "cell_type": "markdown",
   "metadata": {},
   "source": [
    "---------"
   ]
  },
  {
   "cell_type": "markdown",
   "metadata": {},
   "source": [
    "# column exploration"
   ]
  },
  {
   "cell_type": "code",
   "execution_count": 48,
   "metadata": {},
   "outputs": [
    {
     "name": "stderr",
     "output_type": "stream",
     "text": [
      "/Users/ostyk/Desktop/recovery_github/AdEmotion/eda.py:38: FutureWarning: `Series.plot()` should not be called with positional arguments, only keyword arguments. The order of positional arguments will change in the future. Use `Series.plot(kind='bar')` instead of `Series.plot('bar',)`.\n",
      "  data_col.value_counts().plot('bar')\n"
     ]
    },
    {
     "data": {
      "image/png": "[encoded data removed]",
      "text/plain": [
       "<Figure size 432x288 with 1 Axes>"
      ]
     },
     "metadata": {
      "needs_background": "light"
     },
     "output_type": "display_data"
    }
   ],
   "source": []
  },
  {
   "cell_type": "code",
   "execution_count": 49,
   "metadata": {},
   "outputs": [
    {
     "data": {
      "image/png": "[encoded data removed]",
      "text/plain": [
       "<Figure size 432x288 with 1 Axes>"
      ]
     },
     "metadata": {
      "needs_background": "light"
     },
     "output_type": "display_data"
    }
   ],
   "source": [
    "eda.categ_summary(df['Device'])"
   ]
  },
  {
   "cell_type": "markdown",
   "metadata": {},
   "source": [
    "# Psychological data analysis"
   ]
  },
  {
   "cell_type": "markdown",
   "metadata": {},
   "source": [
    "### pair plot for personnality data"
   ]
  },
  {
   "cell_type": "code",
   "execution_count": 50,
   "metadata": {},
   "outputs": [],
   "source": [
    "# sns.pairplot(personality_df, kind=\"scatter\")"
   ]
  },
  {
   "cell_type": "markdown",
   "metadata": {},
   "source": [
    "### check for group clusters"
   ]
  },
  {
   "cell_type": "markdown",
   "metadata": {},
   "source": [
    "#### using t-sne"
   ]
  },
  {
   "cell_type": "code",
   "execution_count": 51,
   "metadata": {},
   "outputs": [],
   "source": [
    "from sklearn.manifold import TSNE\n",
    "from sklearn.decomposition import PCA\n",
    "import time\n",
    "import numpy as np\n",
    "import matplotlib.pyplot as plt\n",
    "from matplotlib.pyplot import cm\n",
    "import matplotlib\n",
    "matplotlib.style.use('ggplot')\n",
    "import scipy"
   ]
  },
  {
   "cell_type": "code",
   "execution_count": 52,
   "metadata": {},
   "outputs": [],
   "source": [
    "tmp_df = personality_df.drop(['UserIdentifier'],axis=1)"
   ]
  },
  {
   "cell_type": "code",
   "execution_count": 53,
   "metadata": {},
   "outputs": [],
   "source": [
    "tmp_df = tmp_df.astype(np.float32)\n",
    "tmp_df = tmp_df.dropna()"
   ]
  },
  {
   "cell_type": "code",
   "execution_count": 54,
   "metadata": {},
   "outputs": [
    {
     "name": "stdout",
     "output_type": "stream",
     "text": [
      "[t-SNE] Computing 61 nearest neighbors...\n",
      "[t-SNE] Indexed 1521 samples in 0.001s...\n",
      "[t-SNE] Computed neighbors for 1521 samples in 0.034s...\n",
      "[t-SNE] Computed conditional probabilities for sample 1000 / 1521\n",
      "[t-SNE] Computed conditional probabilities for sample 1521 / 1521\n",
      "[t-SNE] Mean sigma: 0.412478\n",
      "[t-SNE] Computed conditional probabilities in 0.034s\n",
      "[t-SNE] Iteration 50: error = 80.0284271, gradient norm = 0.1078281 (50 iterations in 0.417s)\n",
      "[t-SNE] Iteration 100: error = 77.1603928, gradient norm = 0.1114128 (50 iterations in 0.451s)\n",
      "[t-SNE] Iteration 150: error = 77.1284103, gradient norm = 0.0981172 (50 iterations in 0.390s)\n",
      "[t-SNE] Iteration 200: error = 76.7741547, gradient norm = 0.1089225 (50 iterations in 0.406s)\n",
      "[t-SNE] Iteration 250: error = 76.5498123, gradient norm = 0.1072343 (50 iterations in 0.375s)\n",
      "[t-SNE] KL divergence after 250 iterations with early exaggeration: 76.549812\n",
      "[t-SNE] Iteration 300: error = 1.6652815, gradient norm = 0.0008915 (50 iterations in 0.301s)\n",
      "[t-SNE] Iteration 350: error = 1.5223112, gradient norm = 0.0003405 (50 iterations in 0.304s)\n",
      "[t-SNE] Iteration 400: error = 1.4811771, gradient norm = 0.0001772 (50 iterations in 0.327s)\n",
      "[t-SNE] Iteration 450: error = 1.4642389, gradient norm = 0.0001303 (50 iterations in 0.337s)\n",
      "[t-SNE] Iteration 500: error = 1.4562876, gradient norm = 0.0001036 (50 iterations in 0.368s)\n",
      "[t-SNE] Iteration 550: error = 1.4512459, gradient norm = 0.0001009 (50 iterations in 0.327s)\n",
      "[t-SNE] Iteration 600: error = 1.4484285, gradient norm = 0.0000835 (50 iterations in 0.323s)\n",
      "[t-SNE] Iteration 650: error = 1.4463160, gradient norm = 0.0000844 (50 iterations in 0.356s)\n",
      "[t-SNE] Iteration 700: error = 1.4449583, gradient norm = 0.0000744 (50 iterations in 0.341s)\n",
      "[t-SNE] Iteration 750: error = 1.4438107, gradient norm = 0.0000624 (50 iterations in 0.332s)\n",
      "[t-SNE] Iteration 800: error = 1.4427102, gradient norm = 0.0000699 (50 iterations in 0.313s)\n",
      "[t-SNE] Iteration 850: error = 1.4417424, gradient norm = 0.0000574 (50 iterations in 0.405s)\n",
      "[t-SNE] Iteration 900: error = 1.4408804, gradient norm = 0.0000624 (50 iterations in 0.627s)\n",
      "[t-SNE] Iteration 950: error = 1.4401824, gradient norm = 0.0000594 (50 iterations in 0.351s)\n",
      "[t-SNE] Iteration 1000: error = 1.4395562, gradient norm = 0.0000695 (50 iterations in 0.301s)\n",
      "[t-SNE] KL divergence after 1000 iterations: 1.439556\n",
      "t-SNE done! Time elapsed: 7.4245851039886475 seconds\n"
     ]
    }
   ],
   "source": [
    "# computing t-SNE\n",
    "time_start = time.time()\n",
    "tsne = TSNE(n_components=2, verbose=3, perplexity=20, n_iter=1000,learning_rate=250)\n",
    "tsne_results = tsne.fit_transform(tmp_df)\n",
    "print (\"t-SNE done! Time elapsed: {} seconds\".format(time.time()-time_start))"
   ]
  },
  {
   "cell_type": "code",
   "execution_count": 55,
   "metadata": {},
   "outputs": [
    {
     "data": {
      "text/plain": [
       "<matplotlib.collections.PathCollection at 0x1249e4e90>"
      ]
     },
     "execution_count": 55,
     "metadata": {},
     "output_type": "execute_result"
    },
    {
     "data": {
      "image/png": "[encoded data removed]",
      "text/plain": [
       "<Figure size 432x288 with 1 Axes>"
      ]
     },
     "metadata": {},
     "output_type": "display_data"
    }
   ],
   "source": [
    "plt.scatter(tsne_results[:,0], tsne_results[:,1])"
   ]
  },
  {
   "cell_type": "code",
   "execution_count": null,
   "metadata": {},
   "outputs": [],
   "source": []
  },
  {
   "cell_type": "code",
   "execution_count": null,
   "metadata": {},
   "outputs": [],
   "source": []
  },
  {
   "cell_type": "markdown",
   "metadata": {},
   "source": [
    "# pair plot for correlation check"
   ]
  },
  {
   "cell_type": "code",
   "execution_count": null,
   "metadata": {},
   "outputs": [],
   "source": []
  },
  {
   "cell_type": "code",
   "execution_count": null,
   "metadata": {},
   "outputs": [],
   "source": [
    "# personality_df[['A', 'B', 'C', 'D', 'E']].corrwith(users_df[['Education', \n",
    "#           'Professional status',\n",
    "#           'City size',\n",
    "#           'Financial_situation',\n",
    "#           'Size of Household',\n",
    "#          'Sex']])"
   ]
  },
  {
   "cell_type": "code",
   "execution_count": 56,
   "metadata": {},
   "outputs": [],
   "source": [
    "from sklearn.cross_decomposition import CCA\n",
    "cca = CCA(n_components=1)"
   ]
  },
  {
   "cell_type": "code",
   "execution_count": null,
   "metadata": {},
   "outputs": [],
   "source": []
  },
  {
   "cell_type": "code",
   "execution_count": 57,
   "metadata": {},
   "outputs": [],
   "source": [
    "X = df[['A', 'B', 'C', 'D', 'E']].astype(np.float32)\n",
    "Y = df[['Education', \n",
    "          'Professional status',\n",
    "          'City size',\n",
    "          'Financial_situation',\n",
    "          'Size of Household']].astype(np.float32).dropna()"
   ]
  },
  {
   "cell_type": "code",
   "execution_count": 58,
   "metadata": {},
   "outputs": [
    {
     "data": {
      "text/plain": [
       "((1521, 5), (1521, 5))"
      ]
     },
     "execution_count": 58,
     "metadata": {},
     "output_type": "execute_result"
    }
   ],
   "source": [
    "Y.dropna().shape, Y.shape"
   ]
  },
  {
   "cell_type": "code",
   "execution_count": 59,
   "metadata": {},
   "outputs": [
    {
     "data": {
      "text/plain": [
       "((1521, 5), (1521, 5))"
      ]
     },
     "execution_count": 59,
     "metadata": {},
     "output_type": "execute_result"
    }
   ],
   "source": [
    "X.dropna().shape, X.shape"
   ]
  },
  {
   "cell_type": "code",
   "execution_count": 61,
   "metadata": {},
   "outputs": [
    {
     "data": {
      "text/plain": [
       "CCA(copy=True, max_iter=500, n_components=1, scale=True, tol=1e-06)"
      ]
     },
     "execution_count": 61,
     "metadata": {},
     "output_type": "execute_result"
    }
   ],
   "source": [
    "cca.fit(X, Y)"
   ]
  },
  {
   "cell_type": "code",
   "execution_count": 62,
   "metadata": {},
   "outputs": [],
   "source": [
    "X_c, Y_c = cca.transform(X, Y)"
   ]
  },
  {
   "cell_type": "code",
   "execution_count": 64,
   "metadata": {},
   "outputs": [
    {
     "data": {
      "text/plain": [
       "<matplotlib.collections.PathCollection at 0x126aa29d0>"
      ]
     },
     "execution_count": 64,
     "metadata": {},
     "output_type": "execute_result"
    },
    {
     "data": {
      "image/png": "[encoded data removed]",
      "text/plain": [
       "<Figure size 432x288 with 1 Axes>"
      ]
     },
     "metadata": {},
     "output_type": "display_data"
    }
   ],
   "source": [
    "plt.scatter(X_c, Y_c)"
   ]
  },
  {
   "cell_type": "code",
   "execution_count": 65,
   "metadata": {},
   "outputs": [
    {
     "name": "stdout",
     "output_type": "stream",
     "text": [
      "                             Multivariate linear model\n",
      "===================================================================================\n",
      "                                                                                   \n",
      "------------------------------------------------------------------------------------\n",
      "            x0                Value      Num DF    Den DF       F Value       Pr > F\n",
      "------------------------------------------------------------------------------------\n",
      "           Wilks' lambda        -0.0000  5.0000  1512.0000  -1382746480.0299  1.0000\n",
      "          Pillai's trace         1.0000  5.0000  1512.0000  -1382746480.0299  1.0000\n",
      "  Hotelling-Lawley trace  -4572574.3387  5.0000  1512.0000  -1382746480.0299  1.0000\n",
      "     Roy's greatest root  -4572574.3387  5.0000  1512.0000  -1382746480.0299  1.0000\n",
      "-----------------------------------------------------------------------------------\n",
      "                                                                                   \n",
      "------------------------------------------------------------------------------------\n",
      "            x1                Value      Num DF    Den DF       F Value       Pr > F\n",
      "------------------------------------------------------------------------------------\n",
      "           Wilks' lambda        -0.0000  5.0000  1512.0000  -1821822755.9748  1.0000\n",
      "          Pillai's trace         1.0000  5.0000  1512.0000  -1821822755.9748  1.0000\n",
      "  Hotelling-Lawley trace  -6024546.1507  5.0000  1512.0000  -1821822755.9748  1.0000\n",
      "     Roy's greatest root  -6024546.1507  5.0000  1512.0000  -1821822755.9748  1.0000\n",
      "-----------------------------------------------------------------------------------\n",
      "                                                                                   \n",
      "-----------------------------------------------------------------------------------\n",
      "           x2                Value       Num DF   Den DF       F Value       Pr > F\n",
      "-----------------------------------------------------------------------------------\n",
      "          Wilks' lambda          -0.0000 5.0000 1512.0000 -409007222879.0555 1.0000\n",
      "         Pillai's trace           1.0000 5.0000 1512.0000 -409007222879.0555 1.0000\n",
      " Hotelling-Lawley trace -1352537112.6953 5.0000 1512.0000 -409007222879.0555 1.0000\n",
      "    Roy's greatest root -1352537112.6953 5.0000 1512.0000 -409007222879.0555 1.0000\n",
      "-----------------------------------------------------------------------------------\n",
      "                                                                                   \n",
      "------------------------------------------------------------------------------------\n",
      "               x3               Value      Num DF    Den DF      F Value      Pr > F\n",
      "------------------------------------------------------------------------------------\n",
      "              Wilks' lambda        0.0000  5.0000  1512.0000  394115347.9140  0.0000\n",
      "             Pillai's trace        1.0000  5.0000  1512.0000  394115347.9140  0.0000\n",
      "     Hotelling-Lawley trace  1303291.4944  5.0000  1512.0000  394115347.9140  0.0000\n",
      "        Roy's greatest root  1303291.4944  5.0000  1512.0000  394115347.9140  0.0000\n",
      "-----------------------------------------------------------------------------------\n",
      "                                                                                   \n",
      "------------------------------------------------------------------------------------\n",
      "                x4               Value     Num DF    Den DF      F Value      Pr > F\n",
      "------------------------------------------------------------------------------------\n",
      "               Wilks' lambda       0.0000  5.0000  1512.0000  222149207.3857  0.0000\n",
      "              Pillai's trace       1.0000  5.0000  1512.0000  222149207.3857  0.0000\n",
      "      Hotelling-Lawley trace  734620.3948  5.0000  1512.0000  222149207.3857  0.0000\n",
      "         Roy's greatest root  734620.3948  5.0000  1512.0000  222149207.3857  0.0000\n",
      "===================================================================================\n",
      "\n"
     ]
    }
   ],
   "source": [
    "import numpy as np\n",
    "from statsmodels.multivariate.manova import MANOVA\n",
    "\n",
    "# n_samples = 20\n",
    "# n_dim = 5\n",
    "# n_classes = 3\n",
    "\n",
    "# X = np.random.randn(n_samples, n_dim)\n",
    "# y = np.random.randint(n_classes, size=n_samples)\n",
    "\n",
    "manova = MANOVA(endog=X, exog=X)\n",
    "print(manova.mv_test())"
   ]
  },
  {
   "cell_type": "code",
   "execution_count": null,
   "metadata": {},
   "outputs": [],
   "source": [
    "y.shape"
   ]
  },
  {
   "cell_type": "code",
   "execution_count": null,
   "metadata": {},
   "outputs": [],
   "source": []
  }
 ],
 "metadata": {
  "kernelspec": {
   "display_name": "Python 3",
   "language": "python",
   "name": "python3"
  },
  "language_info": {
   "codemirror_mode": {
    "name": "ipython",
    "version": 3
   },
   "file_extension": ".py",
   "mimetype": "text/x-python",
   "name": "python",
   "nbconvert_exporter": "python",
   "pygments_lexer": "ipython3",
   "version": "3.7.5"
  }
 },
 "nbformat": 4,
 "nbformat_minor": 4
}
